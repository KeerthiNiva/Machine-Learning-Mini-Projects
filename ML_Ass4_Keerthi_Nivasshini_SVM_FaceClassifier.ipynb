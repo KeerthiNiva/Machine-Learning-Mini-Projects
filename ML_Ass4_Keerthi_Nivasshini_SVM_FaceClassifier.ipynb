{
  "cells": [
    {
      "cell_type": "markdown",
      "source": [
        "# SVM Face  Recognition Classifier."
      ],
      "metadata": {
        "id": "XJGBum1_RfXH"
      },
      "id": "XJGBum1_RfXH"
    },
    {
      "cell_type": "code",
      "execution_count": 1,
      "id": "acb5c1f9",
      "metadata": {
        "id": "acb5c1f9"
      },
      "outputs": [],
      "source": [
        "from sklearn.datasets import fetch_lfw_people\n",
        "fc = fetch_lfw_people(min_faces_per_person=70, resize=0.4)"
      ]
    },
    {
      "cell_type": "code",
      "execution_count": 2,
      "id": "1f129ecd",
      "metadata": {
        "scrolled": true,
        "colab": {
          "base_uri": "https://localhost:8080/"
        },
        "id": "1f129ecd",
        "outputId": "0ce2dd32-3ebf-45fa-cfe5-e0a2be1f2176"
      },
      "outputs": [
        {
          "output_type": "stream",
          "name": "stdout",
          "text": [
            "dict_keys(['data', 'images', 'target', 'target_names', 'DESCR'])\n"
          ]
        }
      ],
      "source": [
        "print(fc.keys())\n"
      ]
    },
    {
      "cell_type": "code",
      "execution_count": 3,
      "id": "7a1065ae",
      "metadata": {
        "colab": {
          "base_uri": "https://localhost:8080/"
        },
        "id": "7a1065ae",
        "outputId": "f6393d11-3c31-462a-a0e3-7dc00c9ba273"
      },
      "outputs": [
        {
          "output_type": "stream",
          "name": "stdout",
          "text": [
            ".. _labeled_faces_in_the_wild_dataset:\n",
            "\n",
            "The Labeled Faces in the Wild face recognition dataset\n",
            "------------------------------------------------------\n",
            "\n",
            "This dataset is a collection of JPEG pictures of famous people collected\n",
            "over the internet, all details are available on the official website:\n",
            "\n",
            "    http://vis-www.cs.umass.edu/lfw/\n",
            "\n",
            "Each picture is centered on a single face. The typical task is called\n",
            "Face Verification: given a pair of two pictures, a binary classifier\n",
            "must predict whether the two images are from the same person.\n",
            "\n",
            "An alternative task, Face Recognition or Face Identification is:\n",
            "given the picture of the face of an unknown person, identify the name\n",
            "of the person by referring to a gallery of previously seen pictures of\n",
            "identified persons.\n",
            "\n",
            "Both Face Verification and Face Recognition are tasks that are typically\n",
            "performed on the output of a model trained to perform Face Detection. The\n",
            "most popular model for Face Detection is called Viola-Jones and is\n",
            "implemented in the OpenCV library. The LFW faces were extracted by this\n",
            "face detector from various online websites.\n",
            "\n",
            "**Data Set Characteristics:**\n",
            "\n",
            "    =================   =======================\n",
            "    Classes                                5749\n",
            "    Samples total                         13233\n",
            "    Dimensionality                         5828\n",
            "    Features            real, between 0 and 255\n",
            "    =================   =======================\n",
            "\n",
            "Usage\n",
            "~~~~~\n",
            "\n",
            "``scikit-learn`` provides two loaders that will automatically download,\n",
            "cache, parse the metadata files, decode the jpeg and convert the\n",
            "interesting slices into memmapped numpy arrays. This dataset size is more\n",
            "than 200 MB. The first load typically takes more than a couple of minutes\n",
            "to fully decode the relevant part of the JPEG files into numpy arrays. If\n",
            "the dataset has  been loaded once, the following times the loading times\n",
            "less than 200ms by using a memmapped version memoized on the disk in the\n",
            "``~/scikit_learn_data/lfw_home/`` folder using ``joblib``.\n",
            "\n",
            "The first loader is used for the Face Identification task: a multi-class\n",
            "classification task (hence supervised learning)::\n",
            "\n",
            "  >>> from sklearn.datasets import fetch_lfw_people\n",
            "  >>> lfw_people = fetch_lfw_people(min_faces_per_person=70, resize=0.4)\n",
            "\n",
            "  >>> for name in lfw_people.target_names:\n",
            "  ...     print(name)\n",
            "  ...\n",
            "  Ariel Sharon\n",
            "  Colin Powell\n",
            "  Donald Rumsfeld\n",
            "  George W Bush\n",
            "  Gerhard Schroeder\n",
            "  Hugo Chavez\n",
            "  Tony Blair\n",
            "\n",
            "The default slice is a rectangular shape around the face, removing\n",
            "most of the background::\n",
            "\n",
            "  >>> lfw_people.data.dtype\n",
            "  dtype('float32')\n",
            "\n",
            "  >>> lfw_people.data.shape\n",
            "  (1288, 1850)\n",
            "\n",
            "  >>> lfw_people.images.shape\n",
            "  (1288, 50, 37)\n",
            "\n",
            "Each of the ``1140`` faces is assigned to a single person id in the ``target``\n",
            "array::\n",
            "\n",
            "  >>> lfw_people.target.shape\n",
            "  (1288,)\n",
            "\n",
            "  >>> list(lfw_people.target[:10])\n",
            "  [5, 6, 3, 1, 0, 1, 3, 4, 3, 0]\n",
            "\n",
            "The second loader is typically used for the face verification task: each sample\n",
            "is a pair of two picture belonging or not to the same person::\n",
            "\n",
            "  >>> from sklearn.datasets import fetch_lfw_pairs\n",
            "  >>> lfw_pairs_train = fetch_lfw_pairs(subset='train')\n",
            "\n",
            "  >>> list(lfw_pairs_train.target_names)\n",
            "  ['Different persons', 'Same person']\n",
            "\n",
            "  >>> lfw_pairs_train.pairs.shape\n",
            "  (2200, 2, 62, 47)\n",
            "\n",
            "  >>> lfw_pairs_train.data.shape\n",
            "  (2200, 5828)\n",
            "\n",
            "  >>> lfw_pairs_train.target.shape\n",
            "  (2200,)\n",
            "\n",
            "Both for the :func:`sklearn.datasets.fetch_lfw_people` and\n",
            ":func:`sklearn.datasets.fetch_lfw_pairs` function it is\n",
            "possible to get an additional dimension with the RGB color channels by\n",
            "passing ``color=True``, in that case the shape will be\n",
            "``(2200, 2, 62, 47, 3)``.\n",
            "\n",
            "The :func:`sklearn.datasets.fetch_lfw_pairs` datasets is subdivided into\n",
            "3 subsets: the development ``train`` set, the development ``test`` set and\n",
            "an evaluation ``10_folds`` set meant to compute performance metrics using a\n",
            "10-folds cross validation scheme.\n",
            "\n",
            ".. topic:: References:\n",
            "\n",
            " * `Labeled Faces in the Wild: A Database for Studying Face Recognition\n",
            "   in Unconstrained Environments.\n",
            "   <http://vis-www.cs.umass.edu/lfw/lfw.pdf>`_\n",
            "   Gary B. Huang, Manu Ramesh, Tamara Berg, and Erik Learned-Miller.\n",
            "   University of Massachusetts, Amherst, Technical Report 07-49, October, 2007.\n",
            "\n",
            "\n",
            "Examples\n",
            "~~~~~~~~\n",
            "\n",
            ":ref:`sphx_glr_auto_examples_applications_plot_face_recognition.py`\n",
            "\n",
            "(1288, 1850)\n",
            "['Ariel Sharon' 'Colin Powell' 'Donald Rumsfeld' 'George W Bush'\n",
            " 'Gerhard Schroeder' 'Hugo Chavez' 'Tony Blair']\n"
          ]
        }
      ],
      "source": [
        "print(fc.DESCR)\n",
        "print(fc.data.shape)\n",
        "print(fc.target_names)\n"
      ]
    },
    {
      "cell_type": "code",
      "execution_count": 4,
      "id": "936f91fe",
      "metadata": {
        "id": "936f91fe"
      },
      "outputs": [],
      "source": [
        "X = fc.data\n",
        "y = fc.target\n"
      ]
    },
    {
      "cell_type": "code",
      "execution_count": 5,
      "id": "366e9772",
      "metadata": {
        "id": "366e9772"
      },
      "outputs": [],
      "source": [
        "from sklearn.model_selection import train_test_split\n",
        "X_train, X_test, y_train, y_test = train_test_split(X, y, test_size=0.3, random_state=42)\n"
      ]
    },
    {
      "cell_type": "code",
      "execution_count": 6,
      "id": "3639bf5e",
      "metadata": {
        "id": "3639bf5e"
      },
      "outputs": [],
      "source": [
        "from sklearn.svm import SVC\n",
        "svm = SVC(kernel='rbf', class_weight='balanced')"
      ]
    },
    {
      "cell_type": "code",
      "execution_count": 7,
      "id": "d07cca63",
      "metadata": {
        "scrolled": true,
        "colab": {
          "base_uri": "https://localhost:8080/",
          "height": 118
        },
        "id": "d07cca63",
        "outputId": "25164e4a-8f6c-4c36-ddee-e3836918d92f"
      },
      "outputs": [
        {
          "output_type": "execute_result",
          "data": {
            "text/plain": [
              "GridSearchCV(cv=10, estimator=SVC(class_weight='balanced'), n_jobs=-1,\n",
              "             param_grid={'C': [1, 10, 100], 'gamma': [0.001, 0.01, 0.1]})"
            ],
            "text/html": [
              "<style>#sk-container-id-1 {color: black;background-color: white;}#sk-container-id-1 pre{padding: 0;}#sk-container-id-1 div.sk-toggleable {background-color: white;}#sk-container-id-1 label.sk-toggleable__label {cursor: pointer;display: block;width: 100%;margin-bottom: 0;padding: 0.3em;box-sizing: border-box;text-align: center;}#sk-container-id-1 label.sk-toggleable__label-arrow:before {content: \"▸\";float: left;margin-right: 0.25em;color: #696969;}#sk-container-id-1 label.sk-toggleable__label-arrow:hover:before {color: black;}#sk-container-id-1 div.sk-estimator:hover label.sk-toggleable__label-arrow:before {color: black;}#sk-container-id-1 div.sk-toggleable__content {max-height: 0;max-width: 0;overflow: hidden;text-align: left;background-color: #f0f8ff;}#sk-container-id-1 div.sk-toggleable__content pre {margin: 0.2em;color: black;border-radius: 0.25em;background-color: #f0f8ff;}#sk-container-id-1 input.sk-toggleable__control:checked~div.sk-toggleable__content {max-height: 200px;max-width: 100%;overflow: auto;}#sk-container-id-1 input.sk-toggleable__control:checked~label.sk-toggleable__label-arrow:before {content: \"▾\";}#sk-container-id-1 div.sk-estimator input.sk-toggleable__control:checked~label.sk-toggleable__label {background-color: #d4ebff;}#sk-container-id-1 div.sk-label input.sk-toggleable__control:checked~label.sk-toggleable__label {background-color: #d4ebff;}#sk-container-id-1 input.sk-hidden--visually {border: 0;clip: rect(1px 1px 1px 1px);clip: rect(1px, 1px, 1px, 1px);height: 1px;margin: -1px;overflow: hidden;padding: 0;position: absolute;width: 1px;}#sk-container-id-1 div.sk-estimator {font-family: monospace;background-color: #f0f8ff;border: 1px dotted black;border-radius: 0.25em;box-sizing: border-box;margin-bottom: 0.5em;}#sk-container-id-1 div.sk-estimator:hover {background-color: #d4ebff;}#sk-container-id-1 div.sk-parallel-item::after {content: \"\";width: 100%;border-bottom: 1px solid gray;flex-grow: 1;}#sk-container-id-1 div.sk-label:hover label.sk-toggleable__label {background-color: #d4ebff;}#sk-container-id-1 div.sk-serial::before {content: \"\";position: absolute;border-left: 1px solid gray;box-sizing: border-box;top: 0;bottom: 0;left: 50%;z-index: 0;}#sk-container-id-1 div.sk-serial {display: flex;flex-direction: column;align-items: center;background-color: white;padding-right: 0.2em;padding-left: 0.2em;position: relative;}#sk-container-id-1 div.sk-item {position: relative;z-index: 1;}#sk-container-id-1 div.sk-parallel {display: flex;align-items: stretch;justify-content: center;background-color: white;position: relative;}#sk-container-id-1 div.sk-item::before, #sk-container-id-1 div.sk-parallel-item::before {content: \"\";position: absolute;border-left: 1px solid gray;box-sizing: border-box;top: 0;bottom: 0;left: 50%;z-index: -1;}#sk-container-id-1 div.sk-parallel-item {display: flex;flex-direction: column;z-index: 1;position: relative;background-color: white;}#sk-container-id-1 div.sk-parallel-item:first-child::after {align-self: flex-end;width: 50%;}#sk-container-id-1 div.sk-parallel-item:last-child::after {align-self: flex-start;width: 50%;}#sk-container-id-1 div.sk-parallel-item:only-child::after {width: 0;}#sk-container-id-1 div.sk-dashed-wrapped {border: 1px dashed gray;margin: 0 0.4em 0.5em 0.4em;box-sizing: border-box;padding-bottom: 0.4em;background-color: white;}#sk-container-id-1 div.sk-label label {font-family: monospace;font-weight: bold;display: inline-block;line-height: 1.2em;}#sk-container-id-1 div.sk-label-container {text-align: center;}#sk-container-id-1 div.sk-container {/* jupyter's `normalize.less` sets `[hidden] { display: none; }` but bootstrap.min.css set `[hidden] { display: none !important; }` so we also need the `!important` here to be able to override the default hidden behavior on the sphinx rendered scikit-learn.org. See: https://github.com/scikit-learn/scikit-learn/issues/21755 */display: inline-block !important;position: relative;}#sk-container-id-1 div.sk-text-repr-fallback {display: none;}</style><div id=\"sk-container-id-1\" class=\"sk-top-container\"><div class=\"sk-text-repr-fallback\"><pre>GridSearchCV(cv=10, estimator=SVC(class_weight=&#x27;balanced&#x27;), n_jobs=-1,\n",
              "             param_grid={&#x27;C&#x27;: [1, 10, 100], &#x27;gamma&#x27;: [0.001, 0.01, 0.1]})</pre><b>In a Jupyter environment, please rerun this cell to show the HTML representation or trust the notebook. <br />On GitHub, the HTML representation is unable to render, please try loading this page with nbviewer.org.</b></div><div class=\"sk-container\" hidden><div class=\"sk-item sk-dashed-wrapped\"><div class=\"sk-label-container\"><div class=\"sk-label sk-toggleable\"><input class=\"sk-toggleable__control sk-hidden--visually\" id=\"sk-estimator-id-1\" type=\"checkbox\" ><label for=\"sk-estimator-id-1\" class=\"sk-toggleable__label sk-toggleable__label-arrow\">GridSearchCV</label><div class=\"sk-toggleable__content\"><pre>GridSearchCV(cv=10, estimator=SVC(class_weight=&#x27;balanced&#x27;), n_jobs=-1,\n",
              "             param_grid={&#x27;C&#x27;: [1, 10, 100], &#x27;gamma&#x27;: [0.001, 0.01, 0.1]})</pre></div></div></div><div class=\"sk-parallel\"><div class=\"sk-parallel-item\"><div class=\"sk-item\"><div class=\"sk-label-container\"><div class=\"sk-label sk-toggleable\"><input class=\"sk-toggleable__control sk-hidden--visually\" id=\"sk-estimator-id-2\" type=\"checkbox\" ><label for=\"sk-estimator-id-2\" class=\"sk-toggleable__label sk-toggleable__label-arrow\">estimator: SVC</label><div class=\"sk-toggleable__content\"><pre>SVC(class_weight=&#x27;balanced&#x27;)</pre></div></div></div><div class=\"sk-serial\"><div class=\"sk-item\"><div class=\"sk-estimator sk-toggleable\"><input class=\"sk-toggleable__control sk-hidden--visually\" id=\"sk-estimator-id-3\" type=\"checkbox\" ><label for=\"sk-estimator-id-3\" class=\"sk-toggleable__label sk-toggleable__label-arrow\">SVC</label><div class=\"sk-toggleable__content\"><pre>SVC(class_weight=&#x27;balanced&#x27;)</pre></div></div></div></div></div></div></div></div></div></div>"
            ]
          },
          "metadata": {},
          "execution_count": 7
        }
      ],
      "source": [
        "from sklearn.model_selection import GridSearchCV\n",
        "params = {'C': [1, 10, 100], 'gamma': [0.001, 0.01, 0.1]}\n",
        "grid = GridSearchCV(svm, params, cv=10, n_jobs=-1)\n",
        "grid.fit(X_train, y_train)"
      ]
    },
    {
      "cell_type": "code",
      "execution_count": 8,
      "id": "23eedb04",
      "metadata": {
        "id": "23eedb04"
      },
      "outputs": [],
      "source": [
        "y_pred = grid.predict(X_test)\n"
      ]
    },
    {
      "cell_type": "code",
      "execution_count": 9,
      "id": "a23c2bd2",
      "metadata": {
        "colab": {
          "base_uri": "https://localhost:8080/"
        },
        "id": "a23c2bd2",
        "outputId": "684b804d-b0a7-4a8d-cf7d-8094dd6dbdd1"
      },
      "outputs": [
        {
          "output_type": "stream",
          "name": "stdout",
          "text": [
            "Accuracy:  0.8217054263565892\n",
            "Precision:  0.8310052904215145\n",
            "Recall:  0.8217054263565892\n",
            "F1-score:  0.8230566033133822\n"
          ]
        }
      ],
      "source": [
        "from sklearn.metrics import accuracy_score, precision_score, recall_score, f1_score\n",
        "print(\"Accuracy: \", accuracy_score(y_test, y_pred))\n",
        "print(\"Precision: \", precision_score(y_test, y_pred, average='weighted'))\n",
        "print(\"Recall: \", recall_score(y_test, y_pred, average='weighted'))\n",
        "print(\"F1-score: \", f1_score(y_test, y_pred, average='weighted'))\n"
      ]
    }
  ],
  "metadata": {
    "kernelspec": {
      "display_name": "Python 3 (ipykernel)",
      "language": "python",
      "name": "python3"
    },
    "language_info": {
      "codemirror_mode": {
        "name": "ipython",
        "version": 3
      },
      "file_extension": ".py",
      "mimetype": "text/x-python",
      "name": "python",
      "nbconvert_exporter": "python",
      "pygments_lexer": "ipython3",
      "version": "3.10.7"
    },
    "colab": {
      "provenance": [],
      "toc_visible": true
    }
  },
  "nbformat": 4,
  "nbformat_minor": 5
}