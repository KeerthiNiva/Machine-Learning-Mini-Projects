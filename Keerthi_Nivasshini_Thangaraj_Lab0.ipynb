{
  "nbformat": 4,
  "nbformat_minor": 0,
  "metadata": {
    "colab": {
      "provenance": []
    },
    "kernelspec": {
      "name": "python3",
      "display_name": "Python 3"
    },
    "language_info": {
      "name": "python"
    }
  },
  "cells": [
    {
      "cell_type": "markdown",
      "source": [
        "**Machine Learning Lab 0 - Keerthi Nivasshini Thangaraj**"
      ],
      "metadata": {
        "id": "vmI6Xh_CiCBB"
      }
    },
    {
      "cell_type": "code",
      "execution_count": 1,
      "metadata": {
        "id": "L0vjcBAJR2Hx"
      },
      "outputs": [],
      "source": [
        "import pandas as pd"
      ]
    },
    {
      "cell_type": "markdown",
      "source": [
        "1.Load the data with Pandas using read_csv()"
      ],
      "metadata": {
        "id": "VgHH6wbKVvU6"
      }
    },
    {
      "cell_type": "code",
      "source": [
        "data=pd.read_csv(\"/content/Lab1_kc_house_data.csv\")"
      ],
      "metadata": {
        "id": "mEKHdMXzTSS_"
      },
      "execution_count": 2,
      "outputs": []
    },
    {
      "cell_type": "markdown",
      "source": [
        "2.Inspect the columns by printing df.columns and make sure the data has loaded as expected by printing the DataFrame head and tail with df.head() and df.tail()\n"
      ],
      "metadata": {
        "id": "uUBieEaIWn-I"
      }
    },
    {
      "cell_type": "code",
      "source": [
        "print(data.columns)\n",
        "print(data.head())\n",
        "print(data.tail())"
      ],
      "metadata": {
        "colab": {
          "base_uri": "https://localhost:8080/"
        },
        "id": "Rvxl4ZxNWrmY",
        "outputId": "7352314b-8bcd-4bc3-892f-44cd5bd33218"
      },
      "execution_count": 3,
      "outputs": [
        {
          "output_type": "stream",
          "name": "stdout",
          "text": [
            "Index(['id', 'date', 'price', 'bedrooms', 'bathrooms', 'sqft_living',\n",
            "       'sqft_lot', 'floors', 'waterfront', 'view', 'condition', 'grade',\n",
            "       'sqft_above', 'sqft_basement', 'yr_built', 'yr_renovated', 'zipcode',\n",
            "       'lat', 'long', 'sqft_living15', 'sqft_lot15'],\n",
            "      dtype='object')\n",
            "           id             date     price  bedrooms  bathrooms  sqft_living  \\\n",
            "0  7129300520  20141013T000000  221900.0         3       1.00         1180   \n",
            "1  6414100192  20141209T000000  538000.0         3       2.25         2570   \n",
            "2  5631500400  20150225T000000  180000.0         2       1.00          770   \n",
            "3  2487200875  20141209T000000  604000.0         4       3.00         1960   \n",
            "4  1954400510  20150218T000000  510000.0         3       2.00         1680   \n",
            "\n",
            "   sqft_lot  floors  waterfront  view  ...  grade  sqft_above  sqft_basement  \\\n",
            "0      5650     1.0           0     0  ...      7        1180              0   \n",
            "1      7242     2.0           0     0  ...      7        2170            400   \n",
            "2     10000     1.0           0     0  ...      6         770              0   \n",
            "3      5000     1.0           0     0  ...      7        1050            910   \n",
            "4      8080     1.0           0     0  ...      8        1680              0   \n",
            "\n",
            "   yr_built  yr_renovated  zipcode      lat     long  sqft_living15  \\\n",
            "0      1955             0    98178  47.5112 -122.257           1340   \n",
            "1      1951          1991    98125  47.7210 -122.319           1690   \n",
            "2      1933             0    98028  47.7379 -122.233           2720   \n",
            "3      1965             0    98136  47.5208 -122.393           1360   \n",
            "4      1987             0    98074  47.6168 -122.045           1800   \n",
            "\n",
            "   sqft_lot15  \n",
            "0        5650  \n",
            "1        7639  \n",
            "2        8062  \n",
            "3        5000  \n",
            "4        7503  \n",
            "\n",
            "[5 rows x 21 columns]\n",
            "               id             date     price  bedrooms  bathrooms  \\\n",
            "21608   263000018  20140521T000000  360000.0         3       2.50   \n",
            "21609  6600060120  20150223T000000  400000.0         4       2.50   \n",
            "21610  1523300141  20140623T000000  402101.0         2       0.75   \n",
            "21611   291310100  20150116T000000  400000.0         3       2.50   \n",
            "21612  1523300157  20141015T000000  325000.0         2       0.75   \n",
            "\n",
            "       sqft_living  sqft_lot  floors  waterfront  view  ...  grade  \\\n",
            "21608         1530      1131     3.0           0     0  ...      8   \n",
            "21609         2310      5813     2.0           0     0  ...      8   \n",
            "21610         1020      1350     2.0           0     0  ...      7   \n",
            "21611         1600      2388     2.0           0     0  ...      8   \n",
            "21612         1020      1076     2.0           0     0  ...      7   \n",
            "\n",
            "       sqft_above  sqft_basement  yr_built  yr_renovated  zipcode      lat  \\\n",
            "21608        1530              0      2009             0    98103  47.6993   \n",
            "21609        2310              0      2014             0    98146  47.5107   \n",
            "21610        1020              0      2009             0    98144  47.5944   \n",
            "21611        1600              0      2004             0    98027  47.5345   \n",
            "21612        1020              0      2008             0    98144  47.5941   \n",
            "\n",
            "          long  sqft_living15  sqft_lot15  \n",
            "21608 -122.346           1530        1509  \n",
            "21609 -122.362           1830        7200  \n",
            "21610 -122.299           1020        2007  \n",
            "21611 -122.069           1410        1287  \n",
            "21612 -122.299           1020        1357  \n",
            "\n",
            "[5 rows x 21 columns]\n"
          ]
        }
      ]
    },
    {
      "cell_type": "markdown",
      "source": [
        "3.Check the number of rows (including the header) in the CSV file.\n"
      ],
      "metadata": {
        "id": "0dxem69yZ6PH"
      }
    },
    {
      "cell_type": "code",
      "source": [
        "df=pd.read_csv(\"/content/Lab1_kc_house_data.csv\",header=None)\n",
        "print(len(df))"
      ],
      "metadata": {
        "colab": {
          "base_uri": "https://localhost:8080/"
        },
        "id": "s3PwBsxgaJ9W",
        "outputId": "02ce04f9-5794-42a4-9e2d-4161a61fe829"
      },
      "execution_count": 4,
      "outputs": [
        {
          "output_type": "stream",
          "name": "stdout",
          "text": [
            "21614\n"
          ]
        }
      ]
    },
    {
      "cell_type": "markdown",
      "source": [
        "4. How much missing data?"
      ],
      "metadata": {
        "id": "5HIZui75cZ6G"
      }
    },
    {
      "cell_type": "code",
      "source": [
        "data.isnull().sum()"
      ],
      "metadata": {
        "colab": {
          "base_uri": "https://localhost:8080/"
        },
        "id": "5iMkK6qFcd6Z",
        "outputId": "906c23f5-ac9e-42fc-b207-4453c5db06a5"
      },
      "execution_count": 5,
      "outputs": [
        {
          "output_type": "execute_result",
          "data": {
            "text/plain": [
              "id               0\n",
              "date             0\n",
              "price            0\n",
              "bedrooms         0\n",
              "bathrooms        0\n",
              "sqft_living      0\n",
              "sqft_lot         0\n",
              "floors           0\n",
              "waterfront       0\n",
              "view             0\n",
              "condition        0\n",
              "grade            0\n",
              "sqft_above       0\n",
              "sqft_basement    0\n",
              "yr_built         0\n",
              "yr_renovated     0\n",
              "zipcode          0\n",
              "lat              0\n",
              "long             0\n",
              "sqft_living15    0\n",
              "sqft_lot15       0\n",
              "dtype: int64"
            ]
          },
          "metadata": {},
          "execution_count": 5
        }
      ]
    },
    {
      "cell_type": "markdown",
      "source": [
        "5.Make a boxplot of average_price (your y axis) by bedrooms (your x axis), use sns.boxplot( )"
      ],
      "metadata": {
        "id": "GNi3s-ZkgH32"
      }
    },
    {
      "cell_type": "code",
      "source": [
        "import seaborn as sns\n",
        "data['average_price'] = data.groupby('bedrooms')['price'].transform('mean')\n",
        "\n",
        "sns.boxplot(x=data['bedrooms'], y=data['average_price'])"
      ],
      "metadata": {
        "colab": {
          "base_uri": "https://localhost:8080/",
          "height": 307
        },
        "id": "jladkbKIgiEZ",
        "outputId": "be7f9c45-a1a6-4cd6-e699-40c513a0d0a4"
      },
      "execution_count": 6,
      "outputs": [
        {
          "output_type": "execute_result",
          "data": {
            "text/plain": [
              "<matplotlib.axes._subplots.AxesSubplot at 0x7f03569dfdc0>"
            ]
          },
          "metadata": {},
          "execution_count": 6
        },
        {
          "output_type": "display_data",
          "data": {
            "text/plain": [
              "<Figure size 432x288 with 1 Axes>"
            ],
            "image/png": "[encoded data removed]"
          },
          "metadata": {
            "needs_background": "light"
          }
        }
      ]
    }
  ]
}